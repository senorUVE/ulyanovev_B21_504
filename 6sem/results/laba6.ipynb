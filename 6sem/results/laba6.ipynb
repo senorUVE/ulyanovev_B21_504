{
 "cells": [
  {
   "cell_type": "code",
   "execution_count": 16,
   "metadata": {},
   "outputs": [],
   "source": [
    "from PIL import Image, ImageFont, ImageDraw, ImageOps\n",
    "import numpy as np\n",
    "from matplotlib import pyplot as plt\n",
    "import csv"
   ]
  },
  {
   "cell_type": "code",
   "execution_count": 17,
   "metadata": {},
   "outputs": [
    {
     "name": "stdout",
     "output_type": "stream",
     "text": [
      "['𐎀', '𐎁', '𐎂', '𐎃', '𐎄', '𐎅', '𐎆', '𐎇', '𐎈', '𐎉', '𐎊', '𐎋', '𐎌', '𐎍', '𐎎', '𐎏', '𐎐', '𐎑', '𐎒', '𐎓', '𐎔', '𐎕', '𐎖', '𐎗', '𐎘', '𐎙', '𐎚', '𐎛', '𐎜', '𐎝']\n"
     ]
    }
   ],
   "source": [
    "string = '𐎀𐎁𐎂𐎃𐎄𐎅𐎆𐎇𐎈𐎉𐎊𐎋𐎌𐎍𐎎𐎏𐎐𐎑𐎒𐎓𐎔𐎕𐎖𐎗𐎘𐎙𐎚𐎛𐎜𐎝'.upper()\n",
    "alphabet = []\n",
    "for letter in string:\n",
    "    alphabet.append(letter)\n",
    "print(alphabet)"
   ]
  },
  {
   "cell_type": "code",
   "execution_count": 18,
   "metadata": {},
   "outputs": [],
   "source": [
    "def simple_binarization(image, threshold):  #просто функция для бинаризации \n",
    "    img_arr = np.array(image)\n",
    "    new_image = np.zeros(shape=img_arr.shape)\n",
    "    new_image[img_arr > threshold] = 255\n",
    "    return Image.fromarray(new_image.astype(np.uint8), 'L')"
   ]
  },
  {
   "cell_type": "code",
   "execution_count": 19,
   "metadata": {},
   "outputs": [],
   "source": [
    "def cut_empty_rows_and_cols(image):\n",
    "\n",
    "    empty_row_numbers = []\n",
    "    empty_column_numbers = []\n",
    "\n",
    "    for x in range(image.width): #ищем пустые строки и столбцы \n",
    "        is_col_empty = True\n",
    "        for y in range(image.height):\n",
    "            if image.getpixel((x, y)) < 255:\n",
    "                is_col_empty = False\n",
    "                break\n",
    "\n",
    "        if is_col_empty:\n",
    "            empty_column_numbers.append(x)\n",
    "\n",
    "    for y in range(image.height):\n",
    "        is_row_empty = True\n",
    "        for x in range(image.width):\n",
    "            if image.getpixel((x, y)) < 255:\n",
    "                is_row_empty = False\n",
    "                break\n",
    "\n",
    "        if is_row_empty:\n",
    "            empty_row_numbers.append(y)\n",
    "\n",
    "    def last_element_in_a_row(elements, start_element, step):  #определяем края обрезки\n",
    "        prev_element = start_element\n",
    "\n",
    "        for element in elements[::step]:\n",
    "            if abs(element - prev_element) > 1:\n",
    "                return prev_element + step\n",
    "\n",
    "            prev_element = element\n",
    "\n",
    "        return prev_element + step\n",
    "\n",
    "    left_whitespace_end = last_element_in_a_row(empty_column_numbers, -1, 1)\n",
    "    upper_whitespace_end = last_element_in_a_row(empty_row_numbers, -1, 1)\n",
    "    right_whitespace_end = last_element_in_a_row(empty_column_numbers, image.width, -1)\n",
    "    lower_whitespace_end = last_element_in_a_row(empty_row_numbers, image.height, -1)\n",
    "\n",
    "    return image.crop(box=(left_whitespace_end, upper_whitespace_end, right_whitespace_end + 1, lower_whitespace_end + 1)) #обрезаем пустоту, оставляя просто прямоугольник"
   ]
  },
  {
   "cell_type": "code",
   "execution_count": 20,
   "metadata": {},
   "outputs": [],
   "source": [
    "def color_used_arr(img):  #преобразование в двумерный массив, где 1 - черный символ а 0 белый фон\n",
    "    return np.asarray(np.asarray(img) < 1, dtype = np.int0)"
   ]
  },
  {
   "cell_type": "code",
   "execution_count": 21,
   "metadata": {},
   "outputs": [],
   "source": [
    "def get_profiles(img):\n",
    "    img_arr_for_calculations = color_used_arr(img)\n",
    "    \n",
    "    x_profiles = np.sum(img_arr_for_calculations, axis=0)\n",
    "    x_range = np.arange(1, img_arr_for_calculations.shape[1] + 1)\n",
    "    \n",
    "    y_profiles = np.sum(img_arr_for_calculations, axis=1)\n",
    "    y_range = np.arange(1, img_arr_for_calculations.shape[0] + 1)  #суммирование черных по осям для получения профилей и их диапазонов значений\n",
    "    \n",
    "    return {\n",
    "        'x_profiles': x_profiles,\n",
    "        'x_range': x_range,\n",
    "        'y_profiles': y_profiles,\n",
    "        'y_range': y_range\n",
    "    }"
   ]
  },
  {
   "cell_type": "code",
   "execution_count": 22,
   "metadata": {},
   "outputs": [],
   "source": [
    "def show_profiles_x(img):\n",
    "    profiles = get_profiles(img)\n",
    "    plt.figure(figsize=(12,2))\n",
    "    plt.bar(x=profiles['x_range'], height=profiles['x_profiles'], width=0.85)\n",
    "    plt.ylim(0, max(profiles['x_profiles']))\n",
    "    plt.xlim(0, max(profiles['x_range']))\n",
    "    plt.show()\n",
    "\n",
    "def show_profiles_y(img):\n",
    "    profiles = get_profiles(img)\n",
    "    plt.figure(figsize=(12,2))\n",
    "    plt.barh(y=profiles['y_range'], width=profiles['y_profiles'], height=0.85)\n",
    "    plt.ylim(max(profiles['y_range']), 0 ) #img.size[1], 0)\n",
    "    plt.xlim(0, max(profiles['y_profiles']))\n",
    "    plt.show()"
   ]
  },
  {
   "cell_type": "code",
   "execution_count": 23,
   "metadata": {},
   "outputs": [],
   "source": [
    "def get_segments_list(img):\n",
    "    img_arr_for_calculations = color_used_arr(img)\n",
    "    x_profiles = np.sum(img_arr_for_calculations, axis=0)\n",
    "    lst = [] #индексы где нет черных пикселей\n",
    "    new_lst = []  #начало и конец сегментов\n",
    "    for i in range(len(x_profiles)):  #заполняем где нет черных \n",
    "        if x_profiles[i] == 0:\n",
    "            lst.append(i)\n",
    "    lst.append(img.width)  #добавляем ширину изображения в конец списка для обозначения конца последнего сегмента\n",
    "\n",
    "    #пары индексов, обозначающих начало и конец\n",
    "    for i in range(len(lst)-1):\n",
    "        if lst[i] + 1 != lst[i+1]:\n",
    "            new_lst.append(lst[i])\n",
    "            new_lst.append(lst[i+1])\n",
    "    new_lst.append(img.width-1)\n",
    "    new_lst = sorted(list(set(new_lst))) #убирем дубликаты и отсортируем список\n",
    "    \n",
    "    \n",
    "    segments = []\n",
    "    for i in range(0, len(new_lst)-1, 2):\n",
    "        segments.append((new_lst[i], new_lst[i+1]))\n",
    "    return segments"
   ]
  },
  {
   "cell_type": "code",
   "execution_count": 24,
   "metadata": {},
   "outputs": [],
   "source": [
    "def result_draw(image, segments):\n",
    "    left_color = (124,252,0)  #зеленый для левой\n",
    "    right_color = (160,32,240) #фиолетовый цвет для правой границы\n",
    "    result = image.copy().convert('RGB')\n",
    "    result_draw = ImageDraw.Draw(im=result)\n",
    "    for segment in segments:\n",
    "        result_draw.rectangle(xy=[(segment[0], 0), (segment[0], result.height)], fill=left_color)\n",
    "        result_draw.rectangle(xy=[(segment[1], 0), (segment[1], result.height)], fill=right_color)\n",
    "    return result"
   ]
  },
  {
   "cell_type": "code",
   "execution_count": 25,
   "metadata": {},
   "outputs": [],
   "source": [
    "font_size = 50\n",
    "font = ImageFont.truetype(\"input/fonts/NotoSansUgaritic-Regular.ttf\", font_size)"
   ]
  },
  {
   "cell_type": "code",
   "execution_count": 26,
   "metadata": {},
   "outputs": [],
   "source": [
    "def generate_sentence():\n",
    "    img = Image.new(mode=\"L\", size=(2555, 150), color=\"white\")\n",
    "    draw = ImageDraw.Draw(img, mode = 'L')\n",
    "    draw.text(xy=(0, 0), text='𐎎𐎏𐎐 𐎀𐎁𐎜𐎝 𐎋', fill=0, font=font, anchor = 'lt')\n",
    "    cutted_img = cut_empty_rows_and_cols(img) #cut_white_image_parts(img)\n",
    "    simple_binarization(cutted_img, 100).save('output/font_50_test.png')"
   ]
  },
  {
   "cell_type": "code",
   "execution_count": 27,
   "metadata": {},
   "outputs": [
    {
     "data": {
      "image/png": "[encoded data removed]",
      "text/plain": [
       "<PIL.PngImagePlugin.PngImageFile image mode=L size=435x44>"
      ]
     },
     "execution_count": 27,
     "metadata": {},
     "output_type": "execute_result"
    }
   ],
   "source": [
    "generate_sentence()\n",
    "font_50_test_img = Image.open('font_50_test.png')\n",
    "font_50_test_img"
   ]
  },
  {
   "cell_type": "code",
   "execution_count": 28,
   "metadata": {},
   "outputs": [
    {
     "name": "stderr",
     "output_type": "stream",
     "text": [
      "C:\\Users\\Kokovino\\AppData\\Local\\Temp\\ipykernel_15464\\2461294313.py:2: DeprecationWarning: `np.int0` is a deprecated alias for `np.intp`.  (Deprecated NumPy 1.24)\n",
      "  return np.asarray(np.asarray(img) < 1, dtype = np.int0)\n"
     ]
    },
    {
     "data": {
      "text/plain": [
       "[(51, 87),\n",
       " (97, 151),\n",
       " (173, 213),\n",
       " (222, 262),\n",
       " (271, 314),\n",
       " (324, 333),\n",
       " (334, 345),\n",
       " (346, 355),\n",
       " (378, 399)]"
      ]
     },
     "execution_count": 28,
     "metadata": {},
     "output_type": "execute_result"
    }
   ],
   "source": [
    "segments = get_segments_list(font_50_test_img)\n",
    "segments"
   ]
  },
  {
   "cell_type": "code",
   "execution_count": 33,
   "metadata": {},
   "outputs": [
    {
     "data": {
      "image/png": "[encoded data removed]",
      "text/plain": [
       "<PIL.Image.Image image mode=RGB size=435x44>"
      ]
     },
     "execution_count": 33,
     "metadata": {},
     "output_type": "execute_result"
    }
   ],
   "source": [
    "result = result_draw(font_50_test_img, segments)\n",
    "result.save('output/result_font_50.png')\n",
    "result"
   ]
  },
  {
   "cell_type": "code",
   "execution_count": 31,
   "metadata": {},
   "outputs": [
    {
     "name": "stderr",
     "output_type": "stream",
     "text": [
      "C:\\Users\\Kokovino\\AppData\\Local\\Temp\\ipykernel_15464\\2461294313.py:2: DeprecationWarning: `np.int0` is a deprecated alias for `np.intp`.  (Deprecated NumPy 1.24)\n",
      "  return np.asarray(np.asarray(img) < 1, dtype = np.int0)\n"
     ]
    },
    {
     "data": {
      "image/png": "[encoded data removed]",
      "text/plain": [
       "<Figure size 1200x200 with 1 Axes>"
      ]
     },
     "metadata": {},
     "output_type": "display_data"
    }
   ],
   "source": [
    "show_profiles_x(font_50_test_img)"
   ]
  },
  {
   "cell_type": "code",
   "execution_count": 32,
   "metadata": {},
   "outputs": [
    {
     "name": "stderr",
     "output_type": "stream",
     "text": [
      "C:\\Users\\Kokovino\\AppData\\Local\\Temp\\ipykernel_15464\\2461294313.py:2: DeprecationWarning: `np.int0` is a deprecated alias for `np.intp`.  (Deprecated NumPy 1.24)\n",
      "  return np.asarray(np.asarray(img) < 1, dtype = np.int0)\n"
     ]
    },
    {
     "data": {
      "image/png": "[encoded data removed]",
      "text/plain": [
       "<Figure size 1200x200 with 1 Axes>"
      ]
     },
     "metadata": {},
     "output_type": "display_data"
    }
   ],
   "source": [
    "show_profiles_y(font_50_test_img)"
   ]
  }
 ],
 "metadata": {
  "kernelspec": {
   "display_name": "Python 3",
   "language": "python",
   "name": "python3"
  },
  "language_info": {
   "codemirror_mode": {
    "name": "ipython",
    "version": 3
   },
   "file_extension": ".py",
   "mimetype": "text/x-python",
   "name": "python",
   "nbconvert_exporter": "python",
   "pygments_lexer": "ipython3",
   "version": "3.10.5"
  }
 },
 "nbformat": 4,
 "nbformat_minor": 2
}
