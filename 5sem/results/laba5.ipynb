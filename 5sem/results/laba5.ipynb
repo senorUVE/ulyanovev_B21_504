{
 "cells": [
  {
   "cell_type": "code",
   "execution_count": 49,
   "metadata": {},
   "outputs": [],
   "source": [
    "from PIL import Image, ImageFont, ImageDraw, ImageOps\n",
    "import numpy as np\n",
    "from matplotlib import pyplot as plt\n",
    "import csv"
   ]
  },
  {
   "cell_type": "code",
   "execution_count": 50,
   "metadata": {},
   "outputs": [
    {
     "name": "stdout",
     "output_type": "stream",
     "text": [
      "['𐎀', '𐎁', '𐎂', '𐎃', '𐎄', '𐎅', '𐎆', '𐎇', '𐎈', '𐎉', '𐎊', '𐎋', '𐎌', '𐎍', '𐎎', '𐎏', '𐎐', '𐎑', '𐎒', '𐎓', '𐎔', '𐎕', '𐎖', '𐎗', '𐎘', '𐎙', '𐎚', '𐎛', '𐎜', '𐎝']\n"
     ]
    }
   ],
   "source": [
    "string = '𐎀𐎁𐎂𐎃𐎄𐎅𐎆𐎇𐎈𐎉𐎊𐎋𐎌𐎍𐎎𐎏𐎐𐎑𐎒𐎓𐎔𐎕𐎖𐎗𐎘𐎙𐎚𐎛𐎜𐎝'.upper()\n",
    "alphabet = []\n",
    "for letter in string:\n",
    "    alphabet.append(letter)\n",
    "print(alphabet)"
   ]
  },
  {
   "cell_type": "code",
   "execution_count": 51,
   "metadata": {},
   "outputs": [],
   "source": [
    "def simple_binarization(image, threshold):  #просто функция для бинаризации \n",
    "    img_arr = np.array(image)\n",
    "    new_image = np.zeros(shape=img_arr.shape)\n",
    "    new_image[img_arr > threshold] = 255\n",
    "    return Image.fromarray(new_image.astype(np.uint8), 'L')"
   ]
  },
  {
   "cell_type": "code",
   "execution_count": 52,
   "metadata": {},
   "outputs": [],
   "source": [
    "def cut_white_image_parts(image):  #проходимся по 4 направлениям и ищем границы \n",
    "\n",
    "    for x in range(image.width-1, -1, -1):\n",
    "        is_col_empty = True\n",
    "        for y in range(image.height):\n",
    "            if image.getpixel((x, y)) < 255:\n",
    "                is_col_empty = False\n",
    "                break\n",
    "#выполняем до тех пор пока не найдем непустую строку или столбец\n",
    "        if not is_col_empty:\n",
    "            right_pixel = x\n",
    "            break\n",
    "            \n",
    "    for y in range(image.height-1, -1, -1):\n",
    "        is_row_empty = True\n",
    "        for x in range(image.width):\n",
    "            if image.getpixel((x, y)) < 255:\n",
    "                is_row_empty = False\n",
    "                break\n",
    "\n",
    "        if not is_row_empty:\n",
    "            bottom_pixel = y\n",
    "            break\n",
    "    \n",
    "    for x in range(0, image.width):\n",
    "        is_col_empty = True\n",
    "        for y in range(image.height):\n",
    "            if image.getpixel((x, y)) < 255:\n",
    "                is_col_empty = False\n",
    "                break\n",
    "\n",
    "        if not is_col_empty:\n",
    "            left_pixel = x\n",
    "            break\n",
    "            \n",
    "    for y in range(0, image.height):\n",
    "        is_row_empty = True\n",
    "        for x in range(image.width):\n",
    "            if image.getpixel((x, y)) < 255:\n",
    "                is_row_empty = False\n",
    "                break\n",
    "\n",
    "        if not is_row_empty:\n",
    "            upper_pixel = y\n",
    "            break\n",
    "            \n",
    "\n",
    "    return image.crop(box=(left_pixel, upper_pixel, right_pixel, bottom_pixel)) #изображение обрезанное по границам"
   ]
  },
  {
   "cell_type": "code",
   "execution_count": 53,
   "metadata": {},
   "outputs": [],
   "source": [
    "def cut_empty_rows_and_cols(image):\n",
    "\n",
    "    empty_row_numbers = []\n",
    "    empty_column_numbers = []\n",
    "\n",
    "    for x in range(image.width): #ищем пустые строки и столбцы \n",
    "        is_col_empty = True\n",
    "        for y in range(image.height):\n",
    "            if image.getpixel((x, y)) < 255:\n",
    "                is_col_empty = False\n",
    "                break\n",
    "\n",
    "        if is_col_empty:\n",
    "            empty_column_numbers.append(x)\n",
    "\n",
    "    for y in range(image.height):\n",
    "        is_row_empty = True\n",
    "        for x in range(image.width):\n",
    "            if image.getpixel((x, y)) < 255:\n",
    "                is_row_empty = False\n",
    "                break\n",
    "\n",
    "        if is_row_empty:\n",
    "            empty_row_numbers.append(y)\n",
    "\n",
    "    def last_element_in_a_row(elements, start_element, step):  #определяем края обрезки\n",
    "        prev_element = start_element\n",
    "\n",
    "        for element in elements[::step]:\n",
    "            if abs(element - prev_element) > 1:\n",
    "                return prev_element + step\n",
    "\n",
    "            prev_element = element\n",
    "\n",
    "        return prev_element + step\n",
    "\n",
    "    left_whitespace_end = last_element_in_a_row(empty_column_numbers, -1, 1)\n",
    "    upper_whitespace_end = last_element_in_a_row(empty_row_numbers, -1, 1)\n",
    "    right_whitespace_end = last_element_in_a_row(empty_column_numbers, image.width, -1)\n",
    "    lower_whitespace_end = last_element_in_a_row(empty_row_numbers, image.height, -1)\n",
    "\n",
    "    return image.crop(box=(left_whitespace_end, upper_whitespace_end, right_whitespace_end + 1, lower_whitespace_end + 1)) #обрезаем пустоту, оставляя просто прямоугольник"
   ]
  },
  {
   "cell_type": "code",
   "execution_count": 54,
   "metadata": {},
   "outputs": [],
   "source": [
    "def font_generate():\n",
    "    font_size = 150\n",
    "    font = ImageFont.truetype(\"output/fonts/NotoSansUgaritic-Regular.ttf\", font_size)\n",
    "\n",
    "    for letter in alphabet:\n",
    "        img = Image.new(mode=\"L\", size=(font_size, font_size), color=255)\n",
    "        draw = ImageDraw.Draw(img, mode = 'L')\n",
    "        draw.text(xy=(0, 0), text=letter, fill=0, font=font, anchor = 'lt')\n",
    "        cutted_img = cut_empty_rows_and_cols(img)\n",
    "        threshloded_img = simple_binarization(cutted_img, 100)\n",
    "        threshloded_img.save(f'output/letter_images/letter_{letter}.png')"
   ]
  },
  {
   "cell_type": "code",
   "execution_count": 55,
   "metadata": {},
   "outputs": [],
   "source": [
    "def color_used_arr(img):  #преобразование в двумерный массив, где 1 - черный символ а 0 белый фон\n",
    "    return np.asarray(np.asarray(img) < 1, dtype = np.int0)\n",
    "\n",
    "def get_features(img):\n",
    "    img_pixels = img.load()\n",
    "    \n",
    "    width = img.size[0]\n",
    "    height = img.size[1]\n",
    "\n",
    "    size = width * height\n",
    "\n",
    "    weight, rel_weight, x_avg, y_avg, rel_x_avg, rel_y_avg = 0, 0, 0, 0, 0, 0\n",
    "    inertia_x, rel_inertia_x, inertia_y, rel_inertia_y = 0, 0, 0, 0\n",
    "\n",
    "    for i in range(width):   #считаем вес\n",
    "        for j in range(height):\n",
    "            if img_pixels[i, j] == 0: #если черный, то ...\n",
    "                weight += 1\n",
    "                x_avg += i  # сумма для центра тяжести \n",
    "                y_avg += j\n",
    "\n",
    "    rel_weight = weight / size    #относительный вес(на площадь)\n",
    "\n",
    "    x_avg /= weight\n",
    "    y_avg /= weight\n",
    "    rel_x_avg = (x_avg - 1) / (width - 1)  #нормирование средних значений\n",
    "    rel_y_avg = (y_avg - 1) / (height - 1)  #координаты центра тяжести, нормированные от 0 до 1(0 - край)\n",
    "\n",
    "    for i in range(width):  #момент инерции (сумм кв расст от черных до центра тяжести)\n",
    "        for j in range(height):\n",
    "            if img_pixels[i, j] == 0: #если черный \n",
    "                inertia_x = (j - x_avg) ** 2\n",
    "                inertia_y = (i - y_avg) ** 2\n",
    "\n",
    "    rel_inertia_x = inertia_x / (width ** 2 + height ** 2)  #нормирование моментов инерции\n",
    "    rel_inertia_y = inertia_y / (width ** 2 + height ** 2)\n",
    "    \n",
    "    return {\n",
    "        'weight': weight,\n",
    "        'rel_weight': rel_weight,\n",
    "        'x_avg': x_avg,\n",
    "        'y_avg': y_avg,\n",
    "        'rel_x_avg': rel_x_avg,\n",
    "        'rel_y_avg': rel_y_avg,\n",
    "        'inertia_x': inertia_x,\n",
    "        'inertia_y': inertia_y,\n",
    "        'rel_inertia_x': rel_inertia_x,\n",
    "        'rel_inertia_y': rel_inertia_y\n",
    "    }"
   ]
  },
  {
   "cell_type": "code",
   "execution_count": 56,
   "metadata": {},
   "outputs": [],
   "source": [
    "def get_profiles(img):\n",
    "    img_arr_for_calculations = color_used_arr(img)\n",
    "    \n",
    "    x_profiles = np.sum(img_arr_for_calculations, axis=0)\n",
    "    x_range = np.arange(1, img_arr_for_calculations.shape[1] + 1)\n",
    "    \n",
    "    y_profiles = np.sum(img_arr_for_calculations, axis=1)\n",
    "    y_range = np.arange(1, img_arr_for_calculations.shape[0] + 1)  #суммирование черных по осям для получения профилей и их диапазонов значений\n",
    "    \n",
    "    return {\n",
    "        'x_profiles': x_profiles,\n",
    "        'x_range': x_range,\n",
    "        'y_profiles': y_profiles,\n",
    "        'y_range': y_range\n",
    "    }"
   ]
  },
  {
   "cell_type": "code",
   "execution_count": 57,
   "metadata": {},
   "outputs": [],
   "source": [
    "def write_profile(img, letter_path, type='x'):  #гистограммы\n",
    "    profiles = get_profiles(img)\n",
    "    \n",
    "    if type == 'x':\n",
    "        plt.bar(x=profiles['x_range'], height=profiles['x_profiles'], width=0.85)\n",
    "        plt.ylim(0, max(profiles['x_profiles']))\n",
    "        plt.xlim(0, max(profiles['x_range']))\n",
    "\n",
    "    else:\n",
    "        plt.barh(y=profiles['y_range'], width=profiles['y_profiles'], height=0.85)\n",
    "        plt.ylim(max(profiles['y_range']), 0 )\n",
    "        plt.xlim(0, max(profiles['y_profiles']))\n",
    "\n",
    "\n",
    "    plt.savefig(letter_path)\n",
    "    plt.clf()\n",
    "    \n",
    "    pass"
   ]
  },
  {
   "cell_type": "code",
   "execution_count": 58,
   "metadata": {},
   "outputs": [],
   "source": [
    "def features_save():\n",
    "    with open('ugarian_font.csv', 'w', encoding='utf-8') as f:\n",
    "        writer = csv.DictWriter(f, fieldnames=['letter', 'weight', 'rel_weight',\n",
    "                                               'x_avg', 'y_avg', 'rel_x_avg', 'rel_y_avg', \n",
    "                                               'inertia_x', 'inertia_y', 'rel_inertia_x', 'rel_inertia_y'])\n",
    "        writer.writeheader()\n",
    "\n",
    "        for letter in alphabet:\n",
    "            image = Image.open(f'output/letter_images/letter_{letter}.png')\n",
    "            \n",
    "            features = get_features(image)\n",
    "            features['letter'] = letter\n",
    "            \n",
    "            writer.writerow(features)"
   ]
  },
  {
   "cell_type": "code",
   "execution_count": 59,
   "metadata": {},
   "outputs": [],
   "source": [
    "def profile_save():\n",
    "    for letter in alphabet:\n",
    "        image = Image.open(f'output/letter_images/letter_{letter}.png')\n",
    "        letter_x_profile_save_path = f'output/letter_profiles/letter_{letter}_x_profile.png'\n",
    "        write_profile(image, letter_x_profile_save_path, 'x')\n",
    "        letter_y_profile_save_path = f'output/letter_profiles/letter_{letter}_y_profile.png'\n",
    "        write_profile(image, letter_y_profile_save_path, 'y')"
   ]
  },
  {
   "cell_type": "code",
   "execution_count": 60,
   "metadata": {},
   "outputs": [
    {
     "name": "stderr",
     "output_type": "stream",
     "text": [
      "C:\\Users\\Kokovino\\AppData\\Local\\Temp\\ipykernel_9240\\4012089895.py:2: DeprecationWarning: `np.int0` is a deprecated alias for `np.intp`.  (Deprecated NumPy 1.24)\n",
      "  return np.asarray(np.asarray(img) < 1, dtype = np.int0)\n"
     ]
    },
    {
     "data": {
      "text/plain": [
       "<Figure size 640x480 with 0 Axes>"
      ]
     },
     "metadata": {},
     "output_type": "display_data"
    }
   ],
   "source": [
    "font_generate()\n",
    "features_save()\n",
    "profile_save()"
   ]
  }
 ],
 "metadata": {
  "kernelspec": {
   "display_name": "Python 3",
   "language": "python",
   "name": "python3"
  },
  "language_info": {
   "codemirror_mode": {
    "name": "ipython",
    "version": 3
   },
   "file_extension": ".py",
   "mimetype": "text/x-python",
   "name": "python",
   "nbconvert_exporter": "python",
   "pygments_lexer": "ipython3",
   "version": "3.10.5"
  }
 },
 "nbformat": 4,
 "nbformat_minor": 2
}
