{
 "cells": [
  {
   "cell_type": "code",
   "execution_count": 1,
   "metadata": {},
   "outputs": [],
   "source": [
    "from PIL import Image, ImageFont, ImageDraw, ImageOps\n",
    "import numpy as np\n",
    "from matplotlib import pyplot as plt\n",
    "import csv\n",
    "from operator import itemgetter\n",
    "\n",
    "# бинаризуем изображение\n",
    "def simple_binarization(image, threshold):\n",
    "  img_arr = np.array(image)\n",
    "  new_image = np.zeros(shape=img_arr.shape)\n",
    "  new_image[img_arr > threshold] = 255\n",
    "  return Image.fromarray(new_image.astype(np.uint8), 'L')"
   ]
  },
  {
   "cell_type": "code",
   "execution_count": 11,
   "metadata": {},
   "outputs": [],
   "source": [
    "# вырезаем белые места из изображения буквы\n",
    "def cut_empty_rows_and_cols(image):\n",
    "\n",
    "    empty_row_numbers = []\n",
    "    empty_column_numbers = []\n",
    "\n",
    "    for x in range(image.width): #ищем пустые строки и столбцы \n",
    "        is_col_empty = True\n",
    "        for y in range(image.height):\n",
    "            if image.getpixel((x, y)) < 255:\n",
    "                is_col_empty = False\n",
    "                break\n",
    "\n",
    "        if is_col_empty:\n",
    "            empty_column_numbers.append(x)\n",
    "\n",
    "    for y in range(image.height):\n",
    "        is_row_empty = True\n",
    "        for x in range(image.width):\n",
    "            if image.getpixel((x, y)) < 255:\n",
    "                is_row_empty = False\n",
    "                break\n",
    "\n",
    "        if is_row_empty:\n",
    "            empty_row_numbers.append(y)\n",
    "\n",
    "    def last_element_in_a_row(elements, start_element, step):  #определяем края обрезки\n",
    "        prev_element = start_element\n",
    "\n",
    "        for element in elements[::step]:\n",
    "            if abs(element - prev_element) > 1:\n",
    "                return prev_element + step\n",
    "\n",
    "            prev_element = element\n",
    "\n",
    "        return prev_element + step\n",
    "\n",
    "    left_whitespace_end = last_element_in_a_row(empty_column_numbers, -1, 1)\n",
    "    upper_whitespace_end = last_element_in_a_row(empty_row_numbers, -1, 1)\n",
    "    right_whitespace_end = last_element_in_a_row(empty_column_numbers, image.width, -1)\n",
    "    lower_whitespace_end = last_element_in_a_row(empty_row_numbers, image.height, -1)\n",
    "\n",
    "    return image.crop(box=(left_whitespace_end, upper_whitespace_end, right_whitespace_end + 1, lower_whitespace_end + 1)) #обрезаем пустоту, оставляя просто прямоугольник\n"
   ]
  },
  {
   "cell_type": "code",
   "execution_count": 12,
   "metadata": {},
   "outputs": [],
   "source": [
    "def generate_sentence(font_size, txt = '𐎎𐎏𐎐 𐎀𐎁𐎜𐎝'):\n",
    "  font = ImageFont.truetype(\"../5sem/results/output/fonts/NotoSansUgaritic-Regular.ttf\", font_size)\n",
    "  img = Image.new(mode=\"L\", size=(2555, font_size), color=255)\n",
    "  draw = ImageDraw.Draw(img, mode = 'L')\n",
    "  draw.text(xy=(0, 0), text= txt, fill=0, font=font, anchor = 'lt')\n",
    "  cutted_img = cut_empty_rows_and_cols(img) # cut_white_image_parts(img)\n",
    "  result_img = simple_binarization(cutted_img, 100)\n",
    "  result_img.save(f'../7sem/results/output/font_{font_size}_test.png')\n",
    "  return result_img "
   ]
  },
  {
   "cell_type": "code",
   "execution_count": 13,
   "metadata": {},
   "outputs": [],
   "source": [
    "# получаем значения характеристик\n",
    "def get_features(img):\n",
    "  img_pixels = img.load()\n",
    "  \n",
    "  width = img.size[0]\n",
    "  height = img.size[1]\n",
    "\n",
    "  size = width * height\n",
    "\n",
    "  weight, rel_weight, x_avg, y_avg, rel_x_avg, rel_y_avg = 0, 0, 0, 0, 0, 0\n",
    "  inertia_x, rel_inertia_x, inertia_y, rel_inertia_y = 0, 0, 0, 0\n",
    "\n",
    "  for i in range(width):\n",
    "    for j in range(height):\n",
    "      if img_pixels[i, j] == 0:  #если черный, то увеличиваем вес\n",
    "        weight += 1\n",
    "        x_avg += i\n",
    "        y_avg += j\n",
    "\n",
    "  rel_weight = weight / size\n",
    "\n",
    "  x_avg /= weight\n",
    "  y_avg /= weight\n",
    "  rel_x_avg = (x_avg - 1) / (width - 1)\n",
    "  rel_y_avg = (y_avg - 1) / (height - 1)\n",
    "\n",
    "  for i in range(width):\n",
    "    for j in range(height):\n",
    "      if img_pixels[i, j] == 0:\n",
    "        inertia_x = (j - x_avg) ** 2\n",
    "        inertia_y = (i - y_avg) ** 2\n",
    "\n",
    "  rel_inertia_x = inertia_x / (width ** 2 + height ** 2)\n",
    "  rel_inertia_y = inertia_y / (width ** 2 + height ** 2)\n",
    "  \n",
    "  # 'rel_weight' 'rel_x_avg' 'rel_y_avg' 'rel_inertia_x' 'rel_inertia_y'\n",
    "  return (rel_weight, rel_x_avg, rel_y_avg, rel_inertia_x, rel_inertia_y)\n",
    "\n",
    "def color_used_arr(img):\n",
    "  return np.asarray(np.asarray(img) < 1, dtype = np.int0)\n"
   ]
  },
  {
   "cell_type": "code",
   "execution_count": 16,
   "metadata": {},
   "outputs": [],
   "source": [
    "# сегментируем фразу на отдельные буквы\n",
    "def get_segments_list(img):\n",
    "  img_arr_for_calculations = color_used_arr(img)\n",
    "  x_profiles = np.sum(img_arr_for_calculations, axis=0)\n",
    "  x_profiles[0] = 0\n",
    "  lst = []  #индексы где нет черных пикселей\n",
    "  new_lst = []  #начало и конец сегментов\n",
    "  for i in range(len(x_profiles)): #заполняем где нет черных \n",
    "    if x_profiles[i] == 0:\n",
    "      lst.append(i)\n",
    "  lst.append(img.width)  #добавляем ширину изображения в конец списка для обозначения конца последнего сегмента\n",
    "#пары индексов, обозначающих начало и конец\n",
    "  for i in range(len(lst)-1):\n",
    "    if lst[i] + 1 != lst[i+1]:\n",
    "      new_lst.append(lst[i])\n",
    "      new_lst.append(lst[i+1])\n",
    "  new_lst.append(img.width-1)\n",
    "  new_lst = sorted(list(set(new_lst))) #убирем дубликаты и отсортируем список\n",
    "  \n",
    "  segments = []\n",
    "  for i in range(0, len(new_lst)-1, 2):\n",
    "    segments.append((new_lst[i], new_lst[i+1]))\n",
    "  return segments"
   ]
  },
  {
   "cell_type": "code",
   "execution_count": 15,
   "metadata": {},
   "outputs": [],
   "source": [
    "def get_letter_images(image):  #функция обрезки для получения отдельного изображения букв\n",
    "  letter_images_list = []\n",
    "  \n",
    "  segments = get_segments_list(image)\n",
    "  \n",
    "  for segment in segments:\n",
    "    letter_image = image.crop(box=(segment[0], 0, segment[1]+1, image.height))\n",
    "    cutted_letter_image = cut_empty_rows_and_cols(letter_image)\n",
    "    \n",
    "    letter_images_list.append(cutted_letter_image)\n",
    "  return letter_images_list\n",
    "\n",
    "def get_probability_list(img, reference_letter_list, reference_letter_features_list):\n",
    "  letter_images_list = get_letter_images(img)\n",
    "  full_list = []\n",
    "\n",
    "  for i, letter in enumerate(letter_images_list):\n",
    "    # получаем профиль данной буквы\n",
    "    recognized_letter_features = get_features(letter)\n",
    "    euclid_distances = []  #список для хранения Евклидовых расстояний между характеристиками текущей буквы и каждой эталонной буквой\n",
    "\n",
    "    for ind, ref_letter in enumerate(reference_letter_list):\n",
    "      zipped_features = zip(recognized_letter_features, reference_letter_features_list[ind])\n",
    "      euclid_distance = 0\n",
    "\n",
    "      # считаем дистанцию\n",
    "      for el in zipped_features:\n",
    "        euclid_distance += (el[0] - el[1]) ** 2 #для каждой пары признаков вычисляется квадрат разности и добавляется к общей сумме\n",
    "      euclid_distance = euclid_distance ** 0.5\n",
    "      euclid_distances.append([ref_letter, euclid_distance])\n",
    "\n",
    "    # сортируем и находим ближайшее подходящее\n",
    "    euclid_distances = sorted(euclid_distances, key = itemgetter(1)) #по возрастанию\n",
    "    max_dist = max(euclid_distances, key = itemgetter(1))[1]\n",
    "\n",
    "    for n in range(len(euclid_distances)):  #мера сходства (чем меньше расстояние, тем выше сходство)\n",
    "      euclid_distances[n][1] /= max_dist\n",
    "      euclid_distances[n][1] = round(1 - euclid_distances[n][1], 2)\n",
    "      euclid_distances[n] = tuple(euclid_distances[n])\n",
    "\n",
    "    full_list.append((i + 1, euclid_distances))\n",
    "    print(euclid_distances[:5])\n",
    "  return full_list"
   ]
  },
  {
   "cell_type": "markdown",
   "metadata": {},
   "source": [
    "# Метрики"
   ]
  },
  {
   "cell_type": "code",
   "execution_count": 19,
   "metadata": {},
   "outputs": [
    {
     "name": "stdout",
     "output_type": "stream",
     "text": [
      "[('𐎓', 0.98), ('𐎘', 0.75), ('𐎝', 0.71), ('𐎃', 0.64), ('𐎊', 0.54)]\n",
      "[('𐎒', 0.87), ('𐎕', 0.86), ('𐎂', 0.85), ('𐎛', 0.78), ('𐎍', 0.75)]\n",
      "[('𐎂', 0.97), ('𐎕', 0.9), ('𐎒', 0.87), ('𐎇', 0.85), ('𐎊', 0.8)]\n",
      "[('𐎂', 0.96), ('𐎕', 0.88), ('𐎇', 0.87), ('𐎒', 0.84), ('𐎊', 0.8)]\n",
      "[('𐎂', 0.95), ('𐎕', 0.88), ('𐎇', 0.86), ('𐎒', 0.84), ('𐎊', 0.8)]\n",
      "[('𐎎', 0.97), ('𐎍', 0.75), ('𐎌', 0.74), ('𐎉', 0.72), ('𐎈', 0.71)]\n",
      "[('𐎏', 0.97), ('𐎈', 0.91), ('𐎉', 0.85), ('𐎌', 0.83), ('𐎖', 0.81)]\n",
      "[('𐎁', 0.94), ('𐎅', 0.84), ('𐎜', 0.77), ('𐎄', 0.74), ('𐎛', 0.69)]\n",
      "[('𐎂', 0.97), ('𐎕', 0.9), ('𐎒', 0.87), ('𐎇', 0.85), ('𐎊', 0.8)]\n",
      "[('𐎃', 0.93), ('𐎊', 0.76), ('𐎝', 0.73), ('𐎘', 0.73), ('𐎇', 0.69)]\n",
      "[('𐎑', 0.92), ('𐎗', 0.9), ('𐎆', 0.88), ('𐎋', 0.88), ('𐎔', 0.88)]\n",
      "[('𐎙', 0.95), ('𐎆', 0.84), ('𐎋', 0.83), ('𐎔', 0.77), ('𐎑', 0.77)]\n",
      "[('𐎚', 0.95), ('𐎀', 0.87), ('𐎐', 0.82), ('𐎗', 0.64), ('𐎑', 0.63)]\n",
      "[('𐎛', 0.94), ('𐎅', 0.86), ('𐎁', 0.83), ('𐎏', 0.74), ('𐎈', 0.71)]\n",
      "[('𐎜', 0.97), ('𐎄', 0.92), ('𐎗', 0.74), ('𐎑', 0.72), ('𐎁', 0.71)]\n",
      "[('𐎓', 0.66), ('𐎘', 0.5), ('𐎃', 0.48), ('𐎝', 0.47), ('𐎊', 0.33)]\n",
      "[('𐎂', 0.97), ('𐎕', 0.9), ('𐎒', 0.87), ('𐎇', 0.85), ('𐎊', 0.8)]\n",
      "[('𐎓', 0.66), ('𐎘', 0.5), ('𐎃', 0.48), ('𐎝', 0.47), ('𐎊', 0.33)]\n",
      "[('𐎉', 0.97), ('𐎌', 0.92), ('𐎈', 0.9), ('𐎖', 0.8), ('𐎏', 0.78)]\n",
      "[('𐎃', 0.93), ('𐎊', 0.76), ('𐎝', 0.73), ('𐎘', 0.73), ('𐎇', 0.69)]\n",
      "[('𐎃', 0.95), ('𐎊', 0.76), ('𐎝', 0.72), ('𐎘', 0.72), ('𐎇', 0.7)]\n",
      "𐎓 𐎌\n",
      "𐎒 𐎍\n",
      "𐎂 𐎎\n",
      "𐎂 𐎏\n",
      "𐎂  \n",
      "𐎎 𐎁\n",
      "𐎏 𐎂\n",
      "𐎁 𐎃\n",
      "𐎂 𐎄\n",
      "𐎃  \n",
      "𐎑 𐎙\n",
      "𐎙 𐎚\n",
      "𐎚 𐎛\n",
      "𐎛 𐎜\n",
      "𐎜 𐎝\n",
      "𐎓  \n",
      "𐎂 𐎉\n",
      "𐎓 𐎊\n"
     ]
    },
    {
     "name": "stderr",
     "output_type": "stream",
     "text": [
      "C:\\Users\\Kokovino\\AppData\\Local\\Temp\\ipykernel_13636\\4244578446.py:40: DeprecationWarning: `np.int0` is a deprecated alias for `np.intp`.  (Deprecated NumPy 1.24)\n",
      "  return np.asarray(np.asarray(img) < 1, dtype = np.int0)\n"
     ]
    },
    {
     "ename": "IndexError",
     "evalue": "string index out of range",
     "output_type": "error",
     "traceback": [
      "\u001b[1;31m---------------------------------------------------------------------------\u001b[0m",
      "\u001b[1;31mIndexError\u001b[0m                                Traceback (most recent call last)",
      "Cell \u001b[1;32mIn[19], line 28\u001b[0m\n\u001b[0;32m     26\u001b[0m count \u001b[38;5;241m=\u001b[39m \u001b[38;5;241m0\u001b[39m\n\u001b[0;32m     27\u001b[0m \u001b[38;5;28;01mfor\u001b[39;00m let \u001b[38;5;129;01min\u001b[39;00m recognized_text:\n\u001b[1;32m---> 28\u001b[0m   \u001b[38;5;28mprint\u001b[39m(let, \u001b[43mtest\u001b[49m\u001b[43m[\u001b[49m\u001b[43mindex\u001b[49m\u001b[43m]\u001b[49m)\n\u001b[0;32m     29\u001b[0m   \u001b[38;5;28;01mif\u001b[39;00m(let \u001b[38;5;241m==\u001b[39m test[index]):\n\u001b[0;32m     30\u001b[0m     count \u001b[38;5;241m+\u001b[39m\u001b[38;5;241m=\u001b[39m \u001b[38;5;241m1\u001b[39m\n",
      "\u001b[1;31mIndexError\u001b[0m: string index out of range"
     ]
    }
   ],
   "source": [
    "# получаем профили из 5 лабы\n",
    "with open('../5sem/results/ugarian_font.csv', 'r', encoding='utf-8') as f:\n",
    "  reader = csv.DictReader(f, fieldnames=['letter', 'weight', 'rel_weight',\n",
    "                                        'x_avg', 'y_avg', 'rel_x_avg', 'rel_y_avg', \n",
    "                                        'inertia_x', 'inertia_y', 'rel_inertia_x', 'rel_inertia_y'])\n",
    "  next(reader)\n",
    "  reference_letter_list = []\n",
    "  reference_letter_features_list = []\n",
    "  for row in reader:\n",
    "    reference_letter_list.append(row['letter'])\n",
    "    reference_letter_features_list.append((float(row['rel_weight']), float(row['rel_x_avg']), float(row['rel_y_avg']), \n",
    "                                          float(row['rel_inertia_x']), float(row['rel_inertia_y'])))\n",
    "    \n",
    "test = '𐎌𐎍𐎎𐎏 𐎁𐎂𐎃𐎄 𐎙𐎚𐎛𐎜𐎝 𐎉𐎊'\n",
    "# генерируем текст 120 шрифтом\n",
    "phrase_some_size = generate_sentence(120, test)\n",
    "\n",
    "# пытаемся распознать\n",
    "euclid_distances_some_size = get_probability_list(phrase_some_size, reference_letter_list, reference_letter_features_list)\n",
    "\n",
    "recognized_text = ''\n",
    "for el in euclid_distances_some_size:\n",
    "  recognized_text += el[1][0][0]\n",
    "\n",
    "index = 0\n",
    "count = 0\n",
    "for let in recognized_text:\n",
    "  print(let, test[index])\n",
    "  if(let == test[index]):\n",
    "    count += 1\n",
    "  index += 1\n",
    "\n",
    "print('Metric: ', count / index * 100)"
   ]
  },
  {
   "cell_type": "code",
   "execution_count": 20,
   "metadata": {},
   "outputs": [
    {
     "name": "stdout",
     "output_type": "stream",
     "text": [
      "[('𐎙', 0.95), ('𐎆', 0.84), ('𐎋', 0.83), ('𐎔', 0.77), ('𐎑', 0.77)]\n",
      "[('𐎚', 0.95), ('𐎀', 0.87), ('𐎐', 0.82), ('𐎗', 0.64), ('𐎑', 0.63)]\n",
      "[('𐎛', 0.94), ('𐎅', 0.86), ('𐎁', 0.83), ('𐎏', 0.74), ('𐎈', 0.71)]\n",
      "[('𐎜', 0.97), ('𐎄', 0.92), ('𐎗', 0.74), ('𐎑', 0.72), ('𐎁', 0.71)]\n",
      "[('𐎓', 0.66), ('𐎘', 0.5), ('𐎃', 0.48), ('𐎝', 0.47), ('𐎊', 0.33)]\n",
      "[('𐎂', 0.97), ('𐎕', 0.9), ('𐎒', 0.87), ('𐎇', 0.85), ('𐎊', 0.8)]\n",
      "[('𐎓', 0.66), ('𐎘', 0.5), ('𐎃', 0.48), ('𐎝', 0.47), ('𐎊', 0.33)]\n",
      "[('𐎉', 0.97), ('𐎌', 0.92), ('𐎈', 0.9), ('𐎖', 0.8), ('𐎏', 0.78)]\n",
      "[('𐎃', 0.93), ('𐎊', 0.76), ('𐎝', 0.73), ('𐎘', 0.73), ('𐎇', 0.69)]\n",
      "[('𐎃', 0.95), ('𐎊', 0.76), ('𐎝', 0.72), ('𐎘', 0.72), ('𐎇', 0.7)]\n",
      "𐎙𐎚𐎛𐎜𐎓𐎂𐎓𐎉𐎃𐎃\n"
     ]
    },
    {
     "name": "stderr",
     "output_type": "stream",
     "text": [
      "C:\\Users\\Kokovino\\AppData\\Local\\Temp\\ipykernel_13636\\4244578446.py:40: DeprecationWarning: `np.int0` is a deprecated alias for `np.intp`.  (Deprecated NumPy 1.24)\n",
      "  return np.asarray(np.asarray(img) < 1, dtype = np.int0)\n"
     ]
    }
   ],
   "source": [
    "# получаем профили из 5 лабы\n",
    "with open('../5sem/results/ugarian_font.csv', 'r', encoding='utf-8') as f:\n",
    "  reader = csv.DictReader(f, fieldnames=['letter', 'weight', 'rel_weight',\n",
    "                                        'x_avg', 'y_avg', 'rel_x_avg', 'rel_y_avg', \n",
    "                                        'inertia_x', 'inertia_y', 'rel_inertia_x', 'rel_inertia_y'])\n",
    "  next(reader)\n",
    "  reference_letter_list = []\n",
    "  reference_letter_features_list = []\n",
    "  for row in reader:\n",
    "    reference_letter_list.append(row['letter'])\n",
    "    reference_letter_features_list.append((float(row['rel_weight']), float(row['rel_x_avg']), float(row['rel_y_avg']), \n",
    "                                          float(row['rel_inertia_x']), float(row['rel_inertia_y'])))\n",
    "    \n",
    "\n",
    "# генерируем текст 120 шрифтом\n",
    "phrase_some_size = generate_sentence(120, '𐎙𐎚𐎛𐎜𐎝 𐎉𐎊')\n",
    "\n",
    "# пытаемся распознать\n",
    "euclid_distances_some_size = get_probability_list(phrase_some_size, reference_letter_list, reference_letter_features_list)\n",
    "\n",
    "recognized_text = ''\n",
    "for el in euclid_distances_some_size:\n",
    "  recognized_text += el[1][0][0]\n",
    "print(recognized_text)\n",
    "\n",
    "with open('recognize_result.txt', 'w', encoding='utf-8') as f:\n",
    "  for row in euclid_distances_some_size:\n",
    "    f.write(f\"{row}\\n\")"
   ]
  },
  {
   "cell_type": "markdown",
   "metadata": {},
   "source": [
    "# Тесты различных размеров\n"
   ]
  },
  {
   "cell_type": "code",
   "execution_count": 28,
   "metadata": {},
   "outputs": [],
   "source": [
    "# получаем профили из 5 лабы\n",
    "with open('../5sem/results/ugarian_font.csv', 'r', encoding='utf-8') as f:\n",
    "  reader = csv.DictReader(f, fieldnames=['letter', 'weight', 'rel_weight',\n",
    "                                        'x_avg', 'y_avg', 'rel_x_avg', 'rel_y_avg', \n",
    "                                        'inertia_x', 'inertia_y', 'rel_inertia_x', 'rel_inertia_y'])\n",
    "  next(reader)\n",
    "  reference_letter_list = []\n",
    "  reference_letter_features_list = []\n",
    "  for row in reader:\n",
    "    reference_letter_list.append(row['letter'])\n",
    "    reference_letter_features_list.append((float(row['rel_weight']), float(row['rel_x_avg']), float(row['rel_y_avg']), \n",
    "                                          float(row['rel_inertia_x']), float(row['rel_inertia_y'])))"
   ]
  },
  {
   "cell_type": "code",
   "execution_count": 29,
   "metadata": {},
   "outputs": [],
   "source": [
    "phrase_100 = generate_sentence(100)"
   ]
  },
  {
   "cell_type": "code",
   "execution_count": 30,
   "metadata": {},
   "outputs": [
    {
     "data": {
      "image/png": "[encoded data removed]",
      "text/plain": [
       "<PIL.Image.Image image mode=L size=713x87>"
      ]
     },
     "execution_count": 30,
     "metadata": {},
     "output_type": "execute_result"
    }
   ],
   "source": [
    "phrase_100"
   ]
  },
  {
   "cell_type": "code",
   "execution_count": 32,
   "metadata": {},
   "outputs": [
    {
     "name": "stdout",
     "output_type": "stream",
     "text": [
      "[('𐎎', 0.99), ('𐎍', 0.75), ('𐎌', 0.74), ('𐎉', 0.72), ('𐎈', 0.71)]\n",
      "[('𐎏', 0.98), ('𐎈', 0.9), ('𐎉', 0.84), ('𐎌', 0.82), ('𐎖', 0.81)]\n",
      "[('𐎐', 0.91), ('𐎀', 0.81), ('𐎚', 0.8), ('𐎗', 0.57), ('𐎑', 0.55)]\n",
      "[('𐎀', 0.92), ('𐎐', 0.88), ('𐎚', 0.85), ('𐎗', 0.63), ('𐎑', 0.62)]\n",
      "[('𐎁', 0.94), ('𐎅', 0.84), ('𐎜', 0.77), ('𐎄', 0.74), ('𐎛', 0.69)]\n",
      "[('𐎜', 1.0), ('𐎄', 0.9), ('𐎁', 0.73), ('𐎗', 0.71), ('𐎑', 0.7)]\n",
      "[('𐎓', 0.67), ('𐎘', 0.51), ('𐎃', 0.49), ('𐎝', 0.48), ('𐎊', 0.34)]\n",
      "[('𐎂', 0.97), ('𐎕', 0.89), ('𐎇', 0.86), ('𐎒', 0.85), ('𐎊', 0.8)]\n",
      "[('𐎓', 0.67), ('𐎘', 0.51), ('𐎃', 0.49), ('𐎝', 0.48), ('𐎊', 0.34)]\n"
     ]
    },
    {
     "name": "stderr",
     "output_type": "stream",
     "text": [
      "C:\\Users\\Kokovino\\AppData\\Local\\Temp\\ipykernel_13636\\4244578446.py:40: DeprecationWarning: `np.int0` is a deprecated alias for `np.intp`.  (Deprecated NumPy 1.24)\n",
      "  return np.asarray(np.asarray(img) < 1, dtype = np.int0)\n"
     ]
    }
   ],
   "source": [
    "euclid_distances_100 = get_probability_list(phrase_100, reference_letter_list, reference_letter_features_list)"
   ]
  },
  {
   "cell_type": "code",
   "execution_count": 33,
   "metadata": {},
   "outputs": [
    {
     "data": {
      "text/plain": [
       "'𐎎𐎏𐎐𐎀𐎁𐎜𐎓𐎂𐎓'"
      ]
     },
     "execution_count": 33,
     "metadata": {},
     "output_type": "execute_result"
    }
   ],
   "source": [
    "recognized_text = ''\n",
    "for el in euclid_distances_100:\n",
    "    recognized_text += el[1][0][0]\n",
    "recognized_text"
   ]
  },
  {
   "cell_type": "code",
   "execution_count": 34,
   "metadata": {},
   "outputs": [
    {
     "data": {
      "image/png": "[encoded data removed]",
      "text/plain": [
       "<PIL.Image.Image image mode=L size=713x87>"
      ]
     },
     "execution_count": 34,
     "metadata": {},
     "output_type": "execute_result"
    }
   ],
   "source": [
    "phrase_100"
   ]
  },
  {
   "cell_type": "code",
   "execution_count": 35,
   "metadata": {},
   "outputs": [],
   "source": [
    "with open('../7sem/results/output/result_100.txt', 'w', encoding='utf-8') as f:\n",
    "    for row in euclid_distances_100:\n",
    "        f.write(f\"{row}\\n\")"
   ]
  },
  {
   "cell_type": "code",
   "execution_count": 36,
   "metadata": {},
   "outputs": [],
   "source": [
    "phrase_48 = generate_sentence(48)"
   ]
  },
  {
   "cell_type": "code",
   "execution_count": 37,
   "metadata": {},
   "outputs": [
    {
     "data": {
      "image/png": "[encoded data removed]",
      "text/plain": [
       "<PIL.Image.Image image mode=L size=342x42>"
      ]
     },
     "execution_count": 37,
     "metadata": {},
     "output_type": "execute_result"
    }
   ],
   "source": [
    "phrase_48"
   ]
  },
  {
   "cell_type": "code",
   "execution_count": 38,
   "metadata": {},
   "outputs": [
    {
     "name": "stdout",
     "output_type": "stream",
     "text": [
      "[('𐎎', 0.94), ('𐎍', 0.75), ('𐎌', 0.73), ('𐎉', 0.69), ('𐎒', 0.69)]\n",
      "[('𐎏', 0.97), ('𐎈', 0.88), ('𐎉', 0.82), ('𐎌', 0.81), ('𐎒', 0.81)]\n",
      "[('𐎐', 0.89), ('𐎀', 0.83), ('𐎚', 0.8), ('𐎗', 0.57), ('𐎑', 0.56)]\n",
      "[('𐎀', 0.85), ('𐎐', 0.81), ('𐎚', 0.77), ('𐎗', 0.59), ('𐎋', 0.57)]\n",
      "[('𐎁', 0.95), ('𐎅', 0.86), ('𐎛', 0.75), ('𐎜', 0.75), ('𐎄', 0.7)]\n",
      "[('𐎜', 0.94), ('𐎄', 0.88), ('𐎗', 0.73), ('𐎁', 0.71), ('𐎑', 0.7)]\n",
      "[('𐎓', 0.64), ('𐎘', 0.47), ('𐎃', 0.47), ('𐎝', 0.44), ('𐎊', 0.31)]\n",
      "[('𐎇', 0.86), ('𐎂', 0.85), ('𐎕', 0.79), ('𐎒', 0.75), ('𐎊', 0.74)]\n",
      "[('𐎓', 0.62), ('𐎃', 0.46), ('𐎘', 0.46), ('𐎝', 0.43), ('𐎅', 0.3)]\n"
     ]
    },
    {
     "name": "stderr",
     "output_type": "stream",
     "text": [
      "C:\\Users\\Kokovino\\AppData\\Local\\Temp\\ipykernel_13636\\4244578446.py:40: DeprecationWarning: `np.int0` is a deprecated alias for `np.intp`.  (Deprecated NumPy 1.24)\n",
      "  return np.asarray(np.asarray(img) < 1, dtype = np.int0)\n"
     ]
    }
   ],
   "source": [
    "euclid_distances_48 = get_probability_list(phrase_48, reference_letter_list, reference_letter_features_list)"
   ]
  },
  {
   "cell_type": "code",
   "execution_count": 39,
   "metadata": {},
   "outputs": [
    {
     "data": {
      "text/plain": [
       "'𐎎𐎏𐎐𐎀𐎁𐎜𐎓𐎇𐎓'"
      ]
     },
     "execution_count": 39,
     "metadata": {},
     "output_type": "execute_result"
    }
   ],
   "source": [
    "recognized_text_48 = ''\n",
    "for el in euclid_distances_48:\n",
    "    recognized_text_48 += el[1][0][0]\n",
    "recognized_text_48"
   ]
  },
  {
   "cell_type": "code",
   "execution_count": 40,
   "metadata": {},
   "outputs": [
    {
     "data": {
      "image/png": "[encoded data removed]",
      "text/plain": [
       "<PIL.Image.Image image mode=L size=342x42>"
      ]
     },
     "execution_count": 40,
     "metadata": {},
     "output_type": "execute_result"
    }
   ],
   "source": [
    "phrase_48"
   ]
  },
  {
   "cell_type": "code",
   "execution_count": 41,
   "metadata": {},
   "outputs": [],
   "source": [
    "with open('../7sem/results/output/result_48.txt', 'w', encoding='utf-8') as f:\n",
    "    for row in euclid_distances_48:\n",
    "        f.write(f\"{row}\\n\")"
   ]
  }
 ],
 "metadata": {
  "kernelspec": {
   "display_name": "Python 3",
   "language": "python",
   "name": "python3"
  },
  "language_info": {
   "codemirror_mode": {
    "name": "ipython",
    "version": 3
   },
   "file_extension": ".py",
   "mimetype": "text/x-python",
   "name": "python",
   "nbconvert_exporter": "python",
   "pygments_lexer": "ipython3",
   "version": "3.10.5"
  }
 },
 "nbformat": 4,
 "nbformat_minor": 2
}
