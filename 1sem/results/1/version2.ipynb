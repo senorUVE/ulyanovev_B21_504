{
 "cells": [
  {
   "cell_type": "code",
   "execution_count": 38,
   "metadata": {},
   "outputs": [],
   "source": [
    "from PIL import Image\n",
    "import numpy as np\n",
    "import math\n",
    "from time import time_ns"
   ]
  },
  {
   "cell_type": "code",
   "execution_count": 39,
   "metadata": {},
   "outputs": [],
   "source": [
    "def upsampling (image: Image, k: int) -> Image:\n",
    "  width, height = image.size\n",
    "\n",
    "  pixels = image.load()\n",
    "\n",
    "  newWidth = width * k\n",
    "  newHeight = height * k\n",
    "# Создаем пустое изображение с новыми размерами\n",
    "  newPixels = np.random.random_integers(0, 255, (newHeight, newWidth, 3))\n",
    "   # Преобразуем исходное изображение в массив для более быстрого доступа к пикселям\n",
    "  newPixels = np.array(newPixels, dtype=np.uint8)\n",
    "#Метод ближайшего соседа(вроде самый быстрый)\n",
    "  for i in range(width):\n",
    "    # для красоты выводим прогресс выполнения функции\n",
    "    for j in range(height):\n",
    "      for s_i in range(k):\n",
    "        for s_j in range(k):\n",
    "          # Присваиваем значение ближайшего пикселя пикселю нового изображения\n",
    "          newPixels[j * k + s_j, i * k + s_i] = pixels[i, j]\n",
    "      \n",
    "  return Image.fromarray(newPixels)"
   ]
  },
  {
   "cell_type": "code",
   "execution_count": 40,
   "metadata": {},
   "outputs": [],
   "source": [
    "def getImages():\n",
    "    image_1 = Image.open('input/towelie.png', 'r').convert('RGB')\n",
    "    image_2 = Image.open('input/Bilinear_interpolation.png', 'r').convert('RGB')\n",
    "    image_3 = Image.open('input/kvant.png', 'r').convert('RGB')\n",
    "    image_4 = Image.open('input/muar.png', 'r').convert('RGB')\n",
    "    image_5 = Image.open('input/scls.png', 'r').convert('RGB')\n",
    "    return {'first': image_1, 'second':image_2, 'third':image_3, 'fourth':image_4, 'fifth':image_5}"
   ]
  },
  {
   "cell_type": "code",
   "execution_count": 41,
   "metadata": {},
   "outputs": [],
   "source": [
    "def printAudit(test_name, delta_time, audit):\n",
    "  print(f'\\nTest {test_name} passed: {(delta_time) / math.pow(10, 9)}s')\n",
    "  for i in audit:\n",
    "    name = i.get('name')\n",
    "    input_size = i.get('input_size')\n",
    "    output_size = i.get('output_size')\n",
    "    print(f'Image {name}; input_size: {input_size}; output_size: {output_size}')"
   ]
  },
  {
   "cell_type": "code",
   "execution_count": 42,
   "metadata": {},
   "outputs": [],
   "source": [
    "def upsampling_test():\n",
    "  images = getImages()\n",
    "  n = 5\n",
    "\n",
    "  start_time = time_ns()\n",
    "  audit = []\n",
    "  for (image_name, image) in images.items():\n",
    "    newImage = upsampling(image, n)\n",
    "    output_name = f'result/{image_name}.processed.png'\n",
    "    audit.append({\n",
    "      'name': output_name,\n",
    "      'input_size': f'{image.size[0]}x{image.size[1]}',\n",
    "      'output_size': f'{newImage.size[0]}x{newImage.size[1]}'\n",
    "    })\n",
    "    newImage.save(output_name)\n",
    "\n",
    "  end_time = time_ns()\n",
    "  printAudit('upsampling_test', end_time - start_time, audit)"
   ]
  },
  {
   "cell_type": "code",
   "execution_count": 43,
   "metadata": {},
   "outputs": [],
   "source": [
    "# выбирается только один пиксель (верхний левый пиксель блока)\n",
    "#для каждого блока n×n пикселей сначала извлекается весь блок пикселей, а затем вычисляется среднее значение по красному, зеленому и синему каналам отдельно для всех пикселей в блоке\n",
    "def downsampling (image: Image, n: int, random_pick = False) -> Image:\n",
    "  width, height = image.size\n",
    "\n",
    "  pixels = image.load()\n",
    "\n",
    "  newWidth = width // n\n",
    "  newHeight = height // n\n",
    "\n",
    "  newPixels = np.random.random_integers(0, 255, (newHeight, newWidth, 3))\n",
    "  newPixels = np.array(newPixels, dtype=np.uint8)\n",
    "\n",
    "  for i in range(newHeight):\n",
    "    for j in range(newWidth):\n",
    "      r, g, b = (0, 0, 0)\n",
    "\n",
    "      x = j * n\n",
    "      y = i * n\n",
    "\n",
    "      # вычисление среднего значения (r, g ,b) пикселей в каждом блоке nxn\n",
    "      if(random_pick):\n",
    "        block = np.array(image.crop((x, y, x + n, y + n)))\n",
    "        red, green, blue = list(), list(), list()\n",
    "\n",
    "        for k in range(n):\n",
    "          for m in range(n):\n",
    "            red.append(block[k, m, 0])\n",
    "            green.append(block[k, m, 1])\n",
    "            blue.append(block[k, m, 2])\n",
    "\n",
    "        r = int(np.mean(red))\n",
    "        g = int(np.mean(green))\n",
    "        b = int(np.mean(blue))\n",
    "      else:\n",
    "        # берем первый пиксель\n",
    "        r, g, b = pixels[x, y]\n",
    "\n",
    "      newPixels[i, j] = (r, g, b)\n",
    "      \n",
    "  return Image.fromarray(newPixels)"
   ]
  },
  {
   "cell_type": "code",
   "execution_count": 44,
   "metadata": {},
   "outputs": [],
   "source": [
    "def downsampling_test():\n",
    "  images = getImages()\n",
    "  n = 5\n",
    "\n",
    "  start_time = time_ns()\n",
    "  audit = []\n",
    "  for (image_name, image) in images.items():\n",
    "    newImage = downsampling(image, n)\n",
    "    output_name = f'output/downsampling/{image_name}.processed.png'\n",
    "    audit.append({\n",
    "      'name': output_name,\n",
    "      'input_size': f'{image.size[0]}x{image.size[1]}',\n",
    "      'output_size': f'{newImage.size[0]}x{newImage.size[1]}'\n",
    "    })\n",
    "    newImage.save(output_name)\n",
    "\n",
    "  end_time = time_ns()\n",
    "  printAudit('downsampling_test', end_time - start_time, audit)"
   ]
  },
  {
   "cell_type": "code",
   "execution_count": 45,
   "metadata": {},
   "outputs": [],
   "source": [
    "def resampling (image: Image, upsampling_k: int, downsampling_k: int) -> Image:\n",
    "  return downsampling(upsampling(image, upsampling_k), downsampling_k)"
   ]
  },
  {
   "cell_type": "code",
   "execution_count": 46,
   "metadata": {},
   "outputs": [],
   "source": [
    "def resampling_test():\n",
    "  images = getImages()\n",
    "  n = 3\n",
    "  m = 7\n",
    "\n",
    "  start_time = time_ns()\n",
    "  audit = []\n",
    "  for (image_name, image) in images.items():\n",
    "    newImage = resampling(image, n, m)\n",
    "    output_name = f'result/resampling/{image_name}.processed.png'\n",
    "    audit.append({\n",
    "      'name': output_name,\n",
    "      'input_size': f'{image.size[0]}x{image.size[1]}',\n",
    "      'output_size': f'{newImage.size[0]}x{newImage.size[1]}'\n",
    "    })\n",
    "    newImage.save(output_name)\n",
    "\n",
    "  end_time = time_ns()\n",
    "  printAudit('resampling_test', end_time - start_time, audit)"
   ]
  },
  {
   "cell_type": "code",
   "execution_count": 47,
   "metadata": {},
   "outputs": [],
   "source": [
    "def one_resampling (image: Image, m: float) -> Image:\n",
    "  width, height = image.size\n",
    "  pixels = image.load()\n",
    "  #вычисляется соответствующая координата в исходном изображении путём деления координат пикселя нового изображения на коэффициент m и округления \n",
    "  newWidth = math.floor(width * m)\n",
    "  newHeight = math.floor(height * m)\n",
    "\n",
    "  newPixels = np.random.random_integers(0, 255, (newHeight, newWidth, 3))\n",
    "  newPixels = np.array(newPixels, dtype=np.uint8)\n",
    "\n",
    "  for i in range(newHeight):\n",
    "    for j in range(newWidth):\n",
    "      x = math.floor(j / m)\n",
    "      y = math.floor(i / m)\n",
    "      newPixels[i, j] = pixels[x, y]\n",
    "\n",
    "  return Image.fromarray(newPixels)"
   ]
  },
  {
   "cell_type": "code",
   "execution_count": 48,
   "metadata": {},
   "outputs": [],
   "source": [
    "def one_resampling_test():\n",
    "  images = getImages()\n",
    "  n = 64 / 235\n",
    "\n",
    "  start_time = time_ns()\n",
    "  audit = []\n",
    "  for (image_name, image) in images.items():\n",
    "    newImage = one_resampling(image, n)\n",
    "    output_name = f'output/oneresampling/{image_name}.processed.png'\n",
    "    audit.append({\n",
    "      'name': output_name,\n",
    "      'input_size': f'{image.size[0]}x{image.size[1]}',\n",
    "      'output_size': f'{newImage.size[0]}x{newImage.size[1]}'\n",
    "    })\n",
    "    newImage.save(output_name)\n",
    "\n",
    "  end_time = time_ns()\n",
    "  printAudit('one_resampling_test', end_time - start_time, audit)\n"
   ]
  },
  {
   "cell_type": "code",
   "execution_count": 49,
   "metadata": {},
   "outputs": [],
   "source": [
    "def main():\n",
    "  upsampling_test()\n",
    "  downsampling_test()\n",
    "  resampling_test()\n",
    "  one_resampling_test()"
   ]
  },
  {
   "cell_type": "code",
   "execution_count": 50,
   "metadata": {},
   "outputs": [
    {
     "name": "stderr",
     "output_type": "stream",
     "text": [
      "C:\\Users\\Kokovino\\AppData\\Local\\Temp\\ipykernel_14000\\3513057684.py:9: DeprecationWarning: This function is deprecated. Please call randint(0, 255 + 1) instead\n",
      "  newPixels = np.random.random_integers(0, 255, (newHeight, newWidth, 3))\n"
     ]
    },
    {
     "name": "stdout",
     "output_type": "stream",
     "text": [
      "\n",
      "Test upsampling_test passed: 12.0223295s\n",
      "Image result/first.processed.png; input_size: 250x299; output_size: 1250x1495\n",
      "Image result/second.processed.png; input_size: 320x306; output_size: 1600x1530\n",
      "Image result/third.processed.png; input_size: 640x429; output_size: 3200x2145\n",
      "Image result/fourth.processed.png; input_size: 317x245; output_size: 1585x1225\n",
      "Image result/fifth.processed.png; input_size: 369x751; output_size: 1845x3755\n",
      "\n",
      "Test downsampling_test passed: 0.0219563s\n",
      "Image result/downsampling/first.processed.png; input_size: 250x299; output_size: 50x59\n",
      "Image result/downsampling/second.processed.png; input_size: 320x306; output_size: 64x61\n",
      "Image result/downsampling/third.processed.png; input_size: 640x429; output_size: 128x85\n",
      "Image result/downsampling/fourth.processed.png; input_size: 317x245; output_size: 63x49\n",
      "Image result/downsampling/fifth.processed.png; input_size: 369x751; output_size: 73x150\n"
     ]
    },
    {
     "name": "stderr",
     "output_type": "stream",
     "text": [
      "C:\\Users\\Kokovino\\AppData\\Local\\Temp\\ipykernel_14000\\1630020670.py:11: DeprecationWarning: This function is deprecated. Please call randint(0, 255 + 1) instead\n",
      "  newPixels = np.random.random_integers(0, 255, (newHeight, newWidth, 3))\n"
     ]
    },
    {
     "name": "stdout",
     "output_type": "stream",
     "text": [
      "\n",
      "Test resampling_test passed: 4.5779685s\n",
      "Image result/resampling/first.processed.png; input_size: 250x299; output_size: 107x128\n",
      "Image result/resampling/second.processed.png; input_size: 320x306; output_size: 137x131\n",
      "Image result/resampling/third.processed.png; input_size: 640x429; output_size: 274x183\n",
      "Image result/resampling/fourth.processed.png; input_size: 317x245; output_size: 135x105\n",
      "Image result/resampling/fifth.processed.png; input_size: 369x751; output_size: 158x321\n",
      "\n",
      "Test one_resampling_test passed: 0.0448845s\n",
      "Image result/oneresampling/first.processed.png; input_size: 250x299; output_size: 68x81\n",
      "Image result/oneresampling/second.processed.png; input_size: 320x306; output_size: 87x83\n",
      "Image result/oneresampling/third.processed.png; input_size: 640x429; output_size: 174x116\n",
      "Image result/oneresampling/fourth.processed.png; input_size: 317x245; output_size: 86x66\n",
      "Image result/oneresampling/fifth.processed.png; input_size: 369x751; output_size: 100x204\n"
     ]
    },
    {
     "name": "stderr",
     "output_type": "stream",
     "text": [
      "C:\\Users\\Kokovino\\AppData\\Local\\Temp\\ipykernel_14000\\1837066733.py:8: DeprecationWarning: This function is deprecated. Please call randint(0, 255 + 1) instead\n",
      "  newPixels = np.random.random_integers(0, 255, (newHeight, newWidth, 3))\n"
     ]
    }
   ],
   "source": [
    "if __name__ == '__main__':\n",
    "  main()"
   ]
  },
  {
   "cell_type": "code",
   "execution_count": null,
   "metadata": {},
   "outputs": [],
   "source": []
  }
 ],
 "metadata": {
  "kernelspec": {
   "display_name": "Python 3",
   "language": "python",
   "name": "python3"
  },
  "language_info": {
   "codemirror_mode": {
    "name": "ipython",
    "version": 3
   },
   "file_extension": ".py",
   "mimetype": "text/x-python",
   "name": "python",
   "nbconvert_exporter": "python",
   "pygments_lexer": "ipython3",
   "version": "3.10.5"
  }
 },
 "nbformat": 4,
 "nbformat_minor": 2
}
