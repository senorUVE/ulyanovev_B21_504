{
 "cells": [
  {
   "cell_type": "code",
   "execution_count": 194,
   "metadata": {},
   "outputs": [],
   "source": [
    "from PIL import Image, ImageChops\n",
    "import numpy as np\n",
    "from time import time_ns\n",
    "import math"
   ]
  },
  {
   "cell_type": "code",
   "execution_count": 195,
   "metadata": {},
   "outputs": [],
   "source": [
    "def printAudit(test_name, delta_time, audit):\n",
    "  print(f'\\nTest {test_name} passed: {(delta_time) / math.pow(10, 9)}s')\n",
    "  for i in audit:\n",
    "    name = i.get('name')\n",
    "    input_size = i.get('input_size')\n",
    "    output_size = i.get('output_size')\n",
    "    print(f'Image {name}; input_size: {input_size}; output_size: {output_size}')"
   ]
  },
  {
   "cell_type": "code",
   "execution_count": 196,
   "metadata": {},
   "outputs": [],
   "source": [
    "'''def getImages():\n",
    "    image_1 = Image.open('input/first.png', 'r').convert('RGB')\n",
    "    image_2 = Image.open('input/second.png', 'r').convert('RGB')\n",
    "    image_3 = Image.open('input/third.png', 'r').convert('RGB')\n",
    "    image_4 = Image.open('input/fourth.png', 'r').convert('RGB')\n",
    "    image_5 = Image.open('input/fifth.png', 'r').convert('RGB')\n",
    "    image_6 = Image.open('input/sixth.png', 'r').convert('RGB')\n",
    "    image_7 = Image.open('input/seventh.png', 'r').convert('RGB')\n",
    "    image_8 = Image.open('input/eigth.png', 'r').convert('RGB')\n",
    "    image_9 = Image.open('input/ninth.png', 'r').convert('RGB')\n",
    "    return {'first': image_1, 'second': image_2, 'third': image_3, 'fourth': image_4, 'fifth': image_5, 'sixth': image_6, 'seventh': image_7, 'eigth': image_8, 'ninth': image_9}'''"
   ]
  },
  {
   "cell_type": "code",
   "execution_count": 197,
   "metadata": {},
   "outputs": [],
   "source": [
    "def calculate_template_space(temp_side_length): #длина структурного элемента\n",
    "  return int(temp_side_length/2)   #чтобы найти отступ от края, т.е операции не будут применяться на краях"
   ]
  },
  {
   "cell_type": "code",
   "execution_count": 200,
   "metadata": {},
   "outputs": [],
   "source": [
    "def dilation(image, template_side_length, template):\n",
    "    new_image = np.zeros(image.shape, image.dtype)\n",
    "    template_space = calculate_template_space(template_side_length) #вычисляем отступ от краев\n",
    "    half_template = int((template_side_length - 1) / 2) #для центрирования относительно текущего пикселя\n",
    "\n",
    "    #Проверка на вшивость\n",
    "    is_binary = np.isin(image, [0, 1]).all()\n",
    "\n",
    "    for y in range(template_space, new_image.shape[0] - template_space):\n",
    "        for x in range(template_space, new_image.shape[1] - template_space):  #чтоб не выехал без загранника из страны\n",
    "            if is_binary:\n",
    "                has_one = False\n",
    "                for c in range(-half_template, half_template + 1):  #Если в окне операции находится хотя бы одна единица,то в центральную позицию окна заносится 1.\n",
    "                    for d in range(-half_template, half_template + 1):\n",
    "                        if template[d + half_template, c + half_template] == 1 and image[y + d, x + c] == 1:\n",
    "                            has_one = True\n",
    "                            break\n",
    "                    if has_one:\n",
    "                        break\n",
    "                new_image[y, x] = 1 if has_one else 0\n",
    "            else:\n",
    "                #для полутона\n",
    "                maximum = -1  \n",
    "                for c in range(-half_template, half_template + 1):   #в окне операции отыскивается элемент с максимальным значением и помещается в центральную позицию.\n",
    "                    for d in range(-half_template, half_template + 1):\n",
    "                        if template[d + half_template, c + half_template] == 1:\n",
    "                            val = image[y + d, x + c]\n",
    "                            maximum = max(maximum, val)\n",
    "                new_image[y, x] = maximum\n",
    "\n",
    "    return new_image"
   ]
  },
  {
   "cell_type": "code",
   "execution_count": 205,
   "metadata": {},
   "outputs": [],
   "source": [
    "import os\n",
    "\n",
    "def dilation_test(iterations: int, template_n: int):\n",
    "    def getImages():\n",
    "        base_path = 'input/'\n",
    "        return {\n",
    "            'first': base_path + 'first.png',\n",
    "            'second': base_path + 'second.png',\n",
    "            'third': base_path + 'third.png',\n",
    "            'fourth': base_path + 'fourth.png',\n",
    "            'fifth': base_path + 'fifth.png',\n",
    "            'sixth': base_path + 'sixth.png',\n",
    "            'seventh': base_path + 'seventh.png',\n",
    "            'eigth': base_path + 'eigth.png',\n",
    "            'ninth': base_path + 'ninth.png',\n",
    "        }\n",
    "    images = getImages()\n",
    "    start_time = time_ns()\n",
    "    audit = []\n",
    "    template = np.ones((template_n, template_n), dtype=np.uint8) #структурирующий элемент \n",
    "\n",
    "    for image_name, image_path in images.items():\n",
    "        image = Image.open(image_path).convert('L')\n",
    "        original_image_array = np.array(image, dtype=np.uint8)\n",
    "        is_binary = np.isin(original_image_array, [0, 255]).all()\n",
    "\n",
    "        processed_image_array = original_image_array.copy()\n",
    "        for _ in range(iterations):\n",
    "            processed_image_array = dilation(processed_image_array, template_n, template)\n",
    "\n",
    "        # Вычисление разностного изображения в зависимости от типа\n",
    "        if is_binary:\n",
    "            diff_image_array = np.bitwise_xor(original_image_array // 255, processed_image_array // 255) * 255\n",
    "        else:\n",
    "            diff_image_array = np.abs(original_image_array - processed_image_array)\n",
    "\n",
    "        processed_image = Image.fromarray(processed_image_array)\n",
    "        diff_image = Image.fromarray(diff_image_array.astype(np.uint8))\n",
    "\n",
    "        output_path = f'output/{image_name}_processed.png'\n",
    "        diff_path = f'output/{image_name}_diff.png'\n",
    "        processed_image.save(output_path)\n",
    "        diff_image.save(diff_path)\n",
    "\n",
    "        audit.append({'name': image_name, 'output_path': output_path, 'diff_path': diff_path})\n",
    "\n",
    "    end_time = time_ns()\n",
    "    for record in audit:\n",
    "        print(f\"Image: {record['name']}, Processed: {record['output_path']}, Diff: {record['diff_path']}\")\n",
    "\n",
    "    print(f\"Total processing time: {(end_time - start_time) / 1e9} seconds\")"
   ]
  },
  {
   "cell_type": "code",
   "execution_count": 203,
   "metadata": {},
   "outputs": [],
   "source": [
    "def test():\n",
    "    dilation_test(1, 3)"
   ]
  },
  {
   "cell_type": "code",
   "execution_count": 204,
   "metadata": {},
   "outputs": [
    {
     "name": "stdout",
     "output_type": "stream",
     "text": [
      "Image: first, Processed: output/first_processed.png, Diff: output/first_diff.png\n",
      "Image: second, Processed: output/second_processed.png, Diff: output/second_diff.png\n",
      "Image: third, Processed: output/third_processed.png, Diff: output/third_diff.png\n",
      "Image: fourth, Processed: output/fourth_processed.png, Diff: output/fourth_diff.png\n",
      "Image: fifth, Processed: output/fifth_processed.png, Diff: output/fifth_diff.png\n",
      "Image: sixth, Processed: output/sixth_processed.png, Diff: output/sixth_diff.png\n",
      "Image: seventh, Processed: output/seventh_processed.png, Diff: output/seventh_diff.png\n",
      "Image: eigth, Processed: output/eigth_processed.png, Diff: output/eigth_diff.png\n",
      "Image: ninth, Processed: output/ninth_processed.png, Diff: output/ninth_diff.png\n",
      "Total processing time: 1127.6635205 seconds\n"
     ]
    }
   ],
   "source": [
    "if __name__ == '__main__':\n",
    "  test()"
   ]
  }
 ],
 "metadata": {
  "kernelspec": {
   "display_name": "Python 3",
   "language": "python",
   "name": "python3"
  },
  "language_info": {
   "codemirror_mode": {
    "name": "ipython",
    "version": 3
   },
   "file_extension": ".py",
   "mimetype": "text/x-python",
   "name": "python",
   "nbconvert_exporter": "python",
   "pygments_lexer": "ipython3",
   "version": "3.10.5"
  }
 },
 "nbformat": 4,
 "nbformat_minor": 2
}
