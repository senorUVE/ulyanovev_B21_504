{
 "cells": [
  {
   "cell_type": "code",
   "execution_count": 35,
   "metadata": {},
   "outputs": [],
   "source": [
    "from PIL import Image\n",
    "from time import time_ns\n",
    "import math\n",
    "import numpy as np"
   ]
  },
  {
   "cell_type": "code",
   "execution_count": 36,
   "metadata": {},
   "outputs": [],
   "source": [
    "def getImages():\n",
    "  img_first = Image.open('input/first.png', 'r').convert('RGB')\n",
    "  img_second = Image.open('input/second.png', 'r').convert('RGB')\n",
    "  img_third = Image.open('input/third.png', 'r').convert('RGB')\n",
    "  return {'first': img_first, 'second': img_second, 'third': img_third}"
   ]
  },
  {
   "cell_type": "code",
   "execution_count": 37,
   "metadata": {},
   "outputs": [],
   "source": [
    "def printAudit(test_name, delta_time, audit):\n",
    "  print(f'\\nTest {test_name} passed: {(delta_time) / math.pow(10, 9)}s')\n",
    "  for i in audit:\n",
    "    name = i.get('name')\n",
    "    input_size = i.get('input_size')\n",
    "    output_size = i.get('output_size')\n",
    "    print(f'Image {name}; input_size: {input_size}; output_size: {output_size}')"
   ]
  },
  {
   "cell_type": "code",
   "execution_count": 38,
   "metadata": {},
   "outputs": [],
   "source": [
    "def grayscale(image):\n",
    "  result = Image.new('L', (image.width, image.height))\n",
    "\n",
    "  for x in range(result.width):  #цвет в полутон\n",
    "    for y in range(result.height):\n",
    "      pixel = image.getpixel((x, y))\n",
    "      new_pixel = int(round(pixel[0] * 0.3 + pixel[1] * 0.59 + pixel[2] * 0.11))\n",
    "      result.putpixel((x, y), new_pixel)\n",
    "\n",
    "  return result\n",
    "\n",
    "operator_prewitt_x = np.array([[-1, -1, -1], \n",
    "                               [ 0,  0,  0],\n",
    "                               [ 1,  1,  1]])\n",
    "operator_prewitt_y = np.array([[-1, 0, 1], \n",
    "                               [-1, 0, 1],\n",
    "                               [-1, 0, 1]])"
   ]
  },
  {
   "cell_type": "code",
   "execution_count": 39,
   "metadata": {},
   "outputs": [],
   "source": [
    "def contour_selection(image, operator_x, operator_y, window_size):\n",
    "  width, height = image.size\n",
    "  S = 2.5   #порог бинаризации\n",
    "  \n",
    "  gray_arr = np.asarray(image, dtype=np.uint8)\n",
    "  \n",
    "  G_x_matrix = np.zeros(shape=(height, width))\n",
    "  G_y_matrix = np.zeros(shape=(height, width))\n",
    "  G_matrix = np.zeros(shape=(height, width))\n",
    "  \n",
    "  padded_gray_arr = np.pad(gray_arr, ((1, 1), (1, 1)), mode='constant')  #однопиксельные отступы вокруг, чтобы градиент на краях был в норме\n",
    "  for i in range(1, height+1):    #перебор пикселей\n",
    "    for j in range(1, width+1): \n",
    "      i_min = max(i - window_size // 2, 0)\n",
    "      i_max = min(i + window_size // 2, height+1)\n",
    "      j_min = max(j - window_size // 2, 0)\n",
    "      j_max = min(j + window_size // 2, width+1)\n",
    "      \n",
    "      window_matrix = padded_gray_arr[i_min:i_max+1, j_min:j_max+1] #матрица значений для окна свертки\n",
    "      \n",
    "      G_x = np.sum(operator_x * window_matrix) #компоненты градиента\n",
    "      G_y = np.sum(operator_y * window_matrix)\n",
    "      G = np.abs(G_x) + np.abs(G_y)\n",
    "\n",
    "      G_x_matrix[i-1, j-1] = int(round(G_x))\n",
    "      G_y_matrix[i-1, j-1] = int(round(G_y))\n",
    "      G_matrix[i-1, j-1] = int(round(G))\n",
    "        \n",
    "  G_x_matrix_normalized = np.abs(G_x_matrix / np.max(G_x_matrix) * 255) #не выходить за ограду от 0 до 255!!\n",
    "  G_y_matrix_normalized = np.abs(G_y_matrix / np.max(G_y_matrix) * 255)\n",
    "  G_matrix_normalized = G_matrix / np.max(G_matrix) * 255\n",
    "  \n",
    "  t = np.mean(G_matrix_normalized) * S   #порог бинаризации(среднее на S)\n",
    "\n",
    "  gXImg = Image.fromarray(G_x_matrix_normalized.astype(np.uint8), mode='L')\n",
    "  gYImg = Image.fromarray(G_y_matrix_normalized.astype(np.uint8), mode='L')\n",
    "\n",
    "  g_img = Image.fromarray(G_matrix_normalized.astype(np.uint8), mode='L')\n",
    "  binary_img = Image.fromarray((G_matrix_normalized > t).astype(np.uint8) * 255, mode = 'L') # порог бинаризации к суммарной матрице, выше - снежок, ниже - уголек\n",
    "\n",
    "  return gXImg, gYImg, g_img, binary_img"
   ]
  },
  {
   "cell_type": "code",
   "execution_count": 40,
   "metadata": {},
   "outputs": [],
   "source": [
    "def contour_selection_test(operator_x, operator_y, window_size: int):\n",
    "  images = getImages()\n",
    "\n",
    "  start_time = time_ns()\n",
    "  audit = []\n",
    "  for (image_name, image) in images.items():\n",
    "    grayscale_image = grayscale(image)\n",
    "    g_x_img, g_y_img, g_img, binary_img = contour_selection(grayscale_image, operator_x, operator_y, window_size)\n",
    "\n",
    "    output_name_x = f'output/{image_name}_x.processed.png'\n",
    "    output_name_y = f'output/{image_name}_y.processed.png'\n",
    "    output_name_binary = f'output/{image_name}_binary.processed.png'\n",
    "    output_name = f'output/{image_name}.processed.png'\n",
    "    output_name_grayscale = f'output/{image_name}_grayscale.processed.png'\n",
    "\n",
    "    audit.append({\n",
    "      'name': output_name_x,\n",
    "      'input_size': f'{image.size[0]}x{image.size[1]}',\n",
    "      'output_size': f'{g_x_img.size[0]}x{g_x_img.size[1]}'\n",
    "    })\n",
    "    audit.append({\n",
    "      'name': output_name_y,\n",
    "      'input_size': f'{image.size[0]}x{image.size[1]}',\n",
    "      'output_size': f'{g_y_img.size[0]}x{g_y_img.size[1]}'\n",
    "    })\n",
    "    audit.append({\n",
    "      'name': output_name,\n",
    "      'input_size': f'{image.size[0]}x{image.size[1]}',\n",
    "      'output_size': f'{g_img.size[0]}x{g_img.size[1]}'\n",
    "    })\n",
    "    audit.append({\n",
    "      'name': output_name_binary,\n",
    "      'input_size': f'{image.size[0]}x{image.size[1]}',\n",
    "      'output_size': f'{binary_img.size[0]}x{binary_img.size[1]}'\n",
    "    })\n",
    "\n",
    "    g_x_img.save(output_name_x)\n",
    "    g_y_img.save(output_name_y)\n",
    "    g_img.save(output_name)\n",
    "    binary_img.save(output_name_binary)\n",
    "    grayscale_image.save(output_name_grayscale)\n",
    "\n",
    "  end_time = time_ns()\n",
    "  printAudit('contour_selection', end_time - start_time, audit)"
   ]
  },
  {
   "cell_type": "code",
   "execution_count": 41,
   "metadata": {},
   "outputs": [],
   "source": [
    "def test():\n",
    "  contour_selection_test(operator_prewitt_x, operator_prewitt_y, 3)"
   ]
  },
  {
   "cell_type": "code",
   "execution_count": 42,
   "metadata": {},
   "outputs": [
    {
     "name": "stdout",
     "output_type": "stream",
     "text": [
      "\n",
      "Test contour_selection passed: 387.3407423s\n",
      "Image output/first_x.processed.png; input_size: 3639x2381; output_size: 3639x2381\n",
      "Image output/first_y.processed.png; input_size: 3639x2381; output_size: 3639x2381\n",
      "Image output/first.processed.png; input_size: 3639x2381; output_size: 3639x2381\n",
      "Image output/first_binary.processed.png; input_size: 3639x2381; output_size: 3639x2381\n",
      "Image output/second_x.processed.png; input_size: 1280x813; output_size: 1280x813\n",
      "Image output/second_y.processed.png; input_size: 1280x813; output_size: 1280x813\n",
      "Image output/second.processed.png; input_size: 1280x813; output_size: 1280x813\n",
      "Image output/second_binary.processed.png; input_size: 1280x813; output_size: 1280x813\n",
      "Image output/third_x.processed.png; input_size: 3050x4050; output_size: 3050x4050\n",
      "Image output/third_y.processed.png; input_size: 3050x4050; output_size: 3050x4050\n",
      "Image output/third.processed.png; input_size: 3050x4050; output_size: 3050x4050\n",
      "Image output/third_binary.processed.png; input_size: 3050x4050; output_size: 3050x4050\n"
     ]
    }
   ],
   "source": [
    "if __name__ == '__main__':\n",
    "  test()"
   ]
  }
 ],
 "metadata": {
  "kernelspec": {
   "display_name": "Python 3",
   "language": "python",
   "name": "python3"
  },
  "language_info": {
   "codemirror_mode": {
    "name": "ipython",
    "version": 3
   },
   "file_extension": ".py",
   "mimetype": "text/x-python",
   "name": "python",
   "nbconvert_exporter": "python",
   "pygments_lexer": "ipython3",
   "version": "3.10.5"
  }
 },
 "nbformat": 4,
 "nbformat_minor": 2
}
