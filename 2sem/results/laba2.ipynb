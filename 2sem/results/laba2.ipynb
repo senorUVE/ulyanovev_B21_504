{
 "cells": [
  {
   "cell_type": "code",
   "execution_count": 101,
   "metadata": {},
   "outputs": [],
   "source": [
    "from PIL import Image\n",
    "from time import time_ns\n",
    "import math\n",
    "import numpy as np"
   ]
  },
  {
   "cell_type": "code",
   "execution_count": 102,
   "metadata": {},
   "outputs": [],
   "source": [
    "def getImages():\n",
    "    image_1 = Image.open('input/84_3.png', 'r').convert('RGB')\n",
    "    image_2 = Image.open('input/84_95.png', 'r').convert('RGB')\n",
    "    image_3 = Image.open('input/198_115.png', 'r').convert('RGB')\n",
    "    image_4 = Image.open('input/198_153.png', 'r').convert('RGB')\n",
    "    image_5 = Image.open('input/198_267.png', 'r').convert('RGB')\n",
    "    image_6 = Image.open('input/207_12.png', 'r').convert('RGB')\n",
    "    image_7 = Image.open('input/im1.png', 'r').convert('RGB')\n",
    "    image_8 = Image.open('input/im2.png', 'r').convert('RGB')\n",
    "    image_9 = Image.open('input/im3.png', 'r').convert('RGB')\n",
    "    return {'first': image_1, 'second': image_2, 'third': image_3, 'fourth': image_4, 'fifth': image_5, 'sixth': image_6, 'seventh': image_7, 'eigth': image_8, 'ninth': image_9}\n"
   ]
  },
  {
   "cell_type": "code",
   "execution_count": 103,
   "metadata": {},
   "outputs": [],
   "source": [
    "def printAudit(test_name, delta_time, audit):   #Просто получение инфы для тестов\n",
    "  print(f'\\nTest {test_name} passed: {(delta_time) / math.pow(10, 9)}s')\n",
    "  for i in audit:\n",
    "    name = i.get('name')\n",
    "    input_size = i.get('input_size')\n",
    "    output_size = i.get('output_size')\n",
    "    print(f'Image {name}; input_size: {input_size}; output_size: {output_size}')"
   ]
  },
  {
   "cell_type": "code",
   "execution_count": 104,
   "metadata": {},
   "outputs": [],
   "source": [
    "#def pixel_mean_value_grayscale(pixel) -> int:\n",
    "#  return int(round((pixel[0] + pixel[1] + pixel[2]) / 3))"
   ]
  },
  {
   "cell_type": "code",
   "execution_count": 105,
   "metadata": {},
   "outputs": [],
   "source": [
    "def semitone(image) -> Image:\n",
    "  result = Image.new('L', (image.width, image.height))\n",
    "  for x in range(result.width):\n",
    "    for y in range(result.height):\n",
    "      pixel = image.getpixel((x, y))\n",
    "      new_pixel = int(round((pixel[0] + pixel[1] + pixel[2]) / 3))  #Рассчитываем одну матрицу Y на основе исходного Y = (R+G+B)/3\n",
    "      result.putpixel((x, y), new_pixel)\n",
    "  return result"
   ]
  },
  {
   "cell_type": "code",
   "execution_count": 106,
   "metadata": {},
   "outputs": [],
   "source": [
    "def semitone_test():\n",
    "  images = getImages()\n",
    "\n",
    "  start_time = time_ns()\n",
    "  audit = []\n",
    "  for (image_name, image) in images.items():\n",
    "    newImage = semitone(image)\n",
    "    output_name = f'output/1/{image_name}.processed.png'\n",
    "    audit.append({\n",
    "      'name': output_name,\n",
    "      'input_size': f'{image.size[0]}x{image.size[1]}',\n",
    "      'output_size': f'{newImage.size[0]}x{newImage.size[1]}'\n",
    "    })\n",
    "    newImage.save(output_name)\n",
    "\n",
    "  end_time = time_ns()\n",
    "  printAudit('semitone', end_time - start_time, audit)"
   ]
  },
  {
   "cell_type": "code",
   "execution_count": 107,
   "metadata": {},
   "outputs": [],
   "source": [
    "def singh_adaptive_threshold(image, k=0.06, window_size=15):  #мб протестирую k=0.03 & size=25, а то 40 минут вообще дерьмово\n",
    "        assert 0 <= k <= 1\n",
    "        assert window_size % 2 == 1\n",
    "        img_array = np.array(image, dtype=np.float32)\n",
    "        binary_image = np.zeros_like(img_array, dtype=np.uint8)\n",
    "        half_window = window_size // 2  #для определения локального окна вокруг каждого пикселя\n",
    "        padded_img = np.pad(img_array, ((half_window, half_window), (half_window, half_window)), 'reflect') #дополняем изображение отражением пикселей изображения, чтобы обеспечить локальные окна одинакового размера для крайних пикселей\n",
    "        for y in range(half_window, padded_img.shape[0] - half_window):\n",
    "                for x in range(half_window, padded_img.shape[1] - half_window): #извлекаем локальное окно из дополненного изображения. Выбирается квадратная область, центром которой является текущий пиксель\n",
    "                        window = padded_img[y - half_window:y + half_window + 1, x - half_window:x + half_window + 1]\n",
    "                        local_mean = np.mean(window)\n",
    "                        local_std = np.std(window)\n",
    "                        threshold = local_mean * (1 + k * ((local_std / (1 - local_std)) - 1))  #пороговое значение\n",
    "                        if img_array[y - half_window, x - half_window] > threshold:\n",
    "                                binary_image[y - half_window, x - half_window] = 255  #белый, если больше порогового значения\n",
    "                        else:\n",
    "                                binary_image[y - half_window, x - half_window] = 0 #black \n",
    "        return Image.fromarray(binary_image)"
   ]
  },
  {
   "cell_type": "code",
   "execution_count": 108,
   "metadata": {},
   "outputs": [],
   "source": [
    "def getSemitoneImages():\n",
    "    image_1 = Image.open('output/1/first.processed.png', 'r')\n",
    "    image_2 = Image.open('output/1/second.processed.png', 'r')\n",
    "    image_3 = Image.open('output/1/third.processed.png', 'r')\n",
    "    image_4 = Image.open('output/1/fourth.processed.png', 'r')\n",
    "    image_5 = Image.open('output/1/fifth.processed.png', 'r')\n",
    "    image_6 = Image.open('output/1/sixth.processed.png', 'r')\n",
    "    image_7 = Image.open('output/1/seventh.processed.png', 'r')\n",
    "    image_8 = Image.open('output/1/eigth.processed.png', 'r')\n",
    "    image_9 = Image.open('output/1/ninth.processed.png', 'r')\n",
    "    return {'first': image_1, 'second': image_2, 'third': image_3, 'fourth': image_4, 'fifth': image_5, 'sixth': image_6, 'seventh': image_7, 'eigth': image_8, 'ninth': image_9}"
   ]
  },
  {
   "cell_type": "code",
   "execution_count": 109,
   "metadata": {},
   "outputs": [],
   "source": [
    "def singh_adaptive_threshold_test():\n",
    "    images = getSemitoneImages()\n",
    "\n",
    "    start_time = time_ns()\n",
    "    audit = []\n",
    "    for (image_name, image) in images.items():\n",
    "        #check_image = semitone(image)  # Можно с проверкой, можно и нет\n",
    "        newImage = singh_adaptive_threshold(image)\n",
    "        output_name = f'output/2.9/{image_name}.processed.png'\n",
    "        audit.append({\n",
    "            'name': output_name,\n",
    "            'input_size': f'{image.size[0]}x{image.size[1]}',\n",
    "            'output_size': f'{newImage.size[0]}x{newImage.size[1]}'\n",
    "        })\n",
    "        newImage.save(output_name)\n",
    "\n",
    "    end_time = time_ns()\n",
    "    printAudit('adaptive_threshold', end_time - start_time, audit)"
   ]
  },
  {
   "cell_type": "code",
   "execution_count": 110,
   "metadata": {},
   "outputs": [],
   "source": [
    "def main():\n",
    "    #semitone_test()\n",
    "    singh_adaptive_threshold_test()"
   ]
  },
  {
   "cell_type": "code",
   "execution_count": 111,
   "metadata": {},
   "outputs": [
    {
     "name": "stdout",
     "output_type": "stream",
     "text": [
      "\n",
      "Test adaptive_threshold passed: 2529.9035819s\n",
      "Image output/2.9/first.processed.png; input_size: 3639x2381; output_size: 3639x2381\n",
      "Image output/2.9/second.processed.png; input_size: 1280x813; output_size: 1280x813\n",
      "Image output/2.9/third.processed.png; input_size: 3050x4050; output_size: 3050x4050\n",
      "Image output/2.9/fourth.processed.png; input_size: 3050x4050; output_size: 3050x4050\n",
      "Image output/2.9/fifth.processed.png; input_size: 3050x4050; output_size: 3050x4050\n",
      "Image output/2.9/sixth.processed.png; input_size: 3000x4250; output_size: 3000x4250\n",
      "Image output/2.9/seventh.processed.png; input_size: 1694x929; output_size: 1694x929\n",
      "Image output/2.9/eigth.processed.png; input_size: 1408x812; output_size: 1408x812\n",
      "Image output/2.9/ninth.processed.png; input_size: 1413x814; output_size: 1413x814\n"
     ]
    }
   ],
   "source": [
    "if __name__ == '__main__':\n",
    "  main()"
   ]
  }
 ],
 "metadata": {
  "kernelspec": {
   "display_name": "Python 3",
   "language": "python",
   "name": "python3"
  },
  "language_info": {
   "codemirror_mode": {
    "name": "ipython",
    "version": 3
   },
   "file_extension": ".py",
   "mimetype": "text/x-python",
   "name": "python",
   "nbconvert_exporter": "python",
   "pygments_lexer": "ipython3",
   "version": "3.10.5"
  }
 },
 "nbformat": 4,
 "nbformat_minor": 2
}
